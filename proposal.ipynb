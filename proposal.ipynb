{
 "cells": [
  {
   "cell_type": "markdown",
   "id": "b8557667-168d-4acb-92a4-c1bb47d9dd5d",
   "metadata": {},
   "source": [
    "# WE WILL BE USING CONTROL_RISK + Audit_Risk + Inherent_Risk as predictors. ;( the other ones do not have labels so we don't don't what they are\n"
   ]
  },
  {
   "cell_type": "raw",
   "id": "b143fad0-32e4-43a5-84a0-bc9d76f16b84",
   "metadata": {},
   "source": []
  },
  {
   "cell_type": "markdown",
   "id": "0c4e3a5b-38e3-4417-b838-afbd507b1743",
   "metadata": {},
   "source": [
    "## Introduction \n",
    "\n",
    "\n",
    "### Citation of Data\n",
    "Hooda,Nishtha. (2018). Audit Data. UCI Machine Learning Repository. https://doi.org/10.24432/C5930Q."
   ]
  },
  {
   "cell_type": "markdown",
   "id": "ba4ea4fd-b391-440f-82da-e328a13f4b38",
   "metadata": {
    "tags": []
   },
   "source": [
    "## Preliminary exploratory data analysis"
   ]
  },
  {
   "cell_type": "markdown",
   "id": "24e4fa3a-d9e8-4318-9cb1-82a95813220f",
   "metadata": {},
   "source": [
    "We are able to use `tidyverse` to load in our data from our data folder and storing it in variable called `audit_risk_data`."
   ]
  },
  {
   "cell_type": "code",
   "execution_count": 38,
   "id": "e8d86462-e2f9-41b2-aab5-d7a8bbf1e9a8",
   "metadata": {
    "tags": []
   },
   "outputs": [
    {
     "name": "stderr",
     "output_type": "stream",
     "text": [
      "\u001b[1m\u001b[22mNew names:\n",
      "\u001b[36m•\u001b[39m `Score_B` -> `Score_B...7`\n",
      "\u001b[36m•\u001b[39m `Score_B` -> `Score_B...11`\n",
      "\u001b[1mRows: \u001b[22m\u001b[34m776\u001b[39m \u001b[1mColumns: \u001b[22m\u001b[34m27\u001b[39m\n",
      "\u001b[36m──\u001b[39m \u001b[1mColumn specification\u001b[22m \u001b[36m────────────────────────────────────────────────────────\u001b[39m\n",
      "\u001b[1mDelimiter:\u001b[22m \",\"\n",
      "\u001b[31mchr\u001b[39m  (1): LOCATION_ID\n",
      "\u001b[32mdbl\u001b[39m (26): Sector_score, PARA_A, Score_A, Risk_A, PARA_B, Score_B...7, Risk_B...\n",
      "\n",
      "\u001b[36mℹ\u001b[39m Use `spec()` to retrieve the full column specification for this data.\n",
      "\u001b[36mℹ\u001b[39m Specify the column types or set `show_col_types = FALSE` to quiet this message.\n"
     ]
    },
    {
     "data": {
      "text/html": [
       "<table class=\"dataframe\">\n",
       "<caption>A tibble: 2 × 2</caption>\n",
       "<thead>\n",
       "\t<tr><th scope=col>Risk</th><th scope=col>Count</th></tr>\n",
       "\t<tr><th scope=col>&lt;fct&gt;</th><th scope=col>&lt;int&gt;</th></tr>\n",
       "</thead>\n",
       "<tbody>\n",
       "\t<tr><td>No </td><td>329</td></tr>\n",
       "\t<tr><td>Yes</td><td>213</td></tr>\n",
       "</tbody>\n",
       "</table>\n"
      ],
      "text/latex": [
       "A tibble: 2 × 2\n",
       "\\begin{tabular}{ll}\n",
       " Risk & Count\\\\\n",
       " <fct> & <int>\\\\\n",
       "\\hline\n",
       "\t No  & 329\\\\\n",
       "\t Yes & 213\\\\\n",
       "\\end{tabular}\n"
      ],
      "text/markdown": [
       "\n",
       "A tibble: 2 × 2\n",
       "\n",
       "| Risk &lt;fct&gt; | Count &lt;int&gt; |\n",
       "|---|---|\n",
       "| No  | 329 |\n",
       "| Yes | 213 |\n",
       "\n"
      ],
      "text/plain": [
       "  Risk Count\n",
       "1 No   329  \n",
       "2 Yes  213  "
      ]
     },
     "metadata": {},
     "output_type": "display_data"
    },
    {
     "data": {
      "text/html": [
       "<table class=\"dataframe\">\n",
       "<caption>A tibble: 1 × 3</caption>\n",
       "<thead>\n",
       "\t<tr><th scope=col>CONTROL_RISK</th><th scope=col>Audit_Risk</th><th scope=col>Inherent_Risk</th></tr>\n",
       "\t<tr><th scope=col>&lt;dbl&gt;</th><th scope=col>&lt;dbl&gt;</th><th scope=col>&lt;dbl&gt;</th></tr>\n",
       "</thead>\n",
       "<tbody>\n",
       "\t<tr><td>0.5568266</td><td>7.489204</td><td>17.64447</td></tr>\n",
       "</tbody>\n",
       "</table>\n"
      ],
      "text/latex": [
       "A tibble: 1 × 3\n",
       "\\begin{tabular}{lll}\n",
       " CONTROL\\_RISK & Audit\\_Risk & Inherent\\_Risk\\\\\n",
       " <dbl> & <dbl> & <dbl>\\\\\n",
       "\\hline\n",
       "\t 0.5568266 & 7.489204 & 17.64447\\\\\n",
       "\\end{tabular}\n"
      ],
      "text/markdown": [
       "\n",
       "A tibble: 1 × 3\n",
       "\n",
       "| CONTROL_RISK &lt;dbl&gt; | Audit_Risk &lt;dbl&gt; | Inherent_Risk &lt;dbl&gt; |\n",
       "|---|---|---|\n",
       "| 0.5568266 | 7.489204 | 17.64447 |\n",
       "\n"
      ],
      "text/plain": [
       "  CONTROL_RISK Audit_Risk Inherent_Risk\n",
       "1 0.5568266    7.489204   17.64447     "
      ]
     },
     "metadata": {},
     "output_type": "display_data"
    }
   ],
   "source": [
    "set.seed(888)\n",
    "\n",
    "# Loads in the packages\n",
    "library(tidyverse)\n",
    "library(repr)\n",
    "library(tidymodels)\n",
    "\n",
    "\n",
    "# Loads the data into the variable\n",
    "url <- \"https://raw.githubusercontent.com/alexander-zhong/dsci-100-project/main/data/audit_risk.csv\"\n",
    "audit_risk_data <- read_csv(url) |>\n",
    "    select(c(Sector_score, LOCATION_ID, History, Inherent_Risk, CONTROL_RISK, Detection_Risk, Audit_Risk, Risk))\n",
    "\n",
    "# Clean up and turn the Risk variable into a factor for our classification\n",
    "audit_risk_data <- audit_risk_data |>\n",
    "    mutate(Risk = as_factor(Risk)) |>\n",
    "    mutate(Risk = fct_recode(Risk, \"Yes\" = \"1\", \"No\" = \"0\"))\n",
    "        \n",
    "\n",
    "# splitting the data \n",
    "audit_risk_split <- initial_split(audit_risk_data, prop = .7, strata = Risk)\n",
    "audit_risk_train <- training(audit_risk_split)\n",
    "audit_risk_test <- testing(audit_risk_split)\n",
    "\n",
    "\n",
    "# see the total number of firms that are considered a risk or not a risk\n",
    "preliminary_table1 <- audit_risk_train |>\n",
    "    group_by(Risk) |>\n",
    "    summarize(Count = n())\n",
    "preliminary_table1\n",
    "\n",
    "# see the average of our predictor variables\n",
    "preliminary_table2 <- audit_risk_train |>\n",
    "    select(CONTROL_RISK, Audit_Risk, Inherent_Risk) |>\n",
    "    map_df(mean, na.rm = TRUE)\n",
    "\n",
    "preliminary_table2\n",
    "\n",
    "\n"
   ]
  },
  {
   "cell_type": "markdown",
   "id": "c80808cd-cd73-40a7-af9a-ca50043e884f",
   "metadata": {},
   "source": [
    "## Methods\n",
    "..."
   ]
  },
  {
   "cell_type": "markdown",
   "id": "a7c3d8c1-ae1f-4bc9-b1f9-73e5e17b654a",
   "metadata": {},
   "source": [
    "\n",
    "\n",
    "\n",
    "\n",
    "\n",
    "\n",
    "\n",
    "\n",
    "\n"
   ]
  },
  {
   "cell_type": "markdown",
   "id": "3d132734-b2f7-41cc-b419-6f85f5c7151a",
   "metadata": {},
   "source": [
    "## Expected outcomes and significance\n",
    "..."
   ]
  },
  {
   "cell_type": "markdown",
   "id": "31ff1b8e-4032-4958-93b0-d59776af0011",
   "metadata": {},
   "source": [
    "\n",
    "\n",
    "\n",
    "\n",
    "\n",
    "\n",
    "\n"
   ]
  }
 ],
 "metadata": {
  "kernelspec": {
   "display_name": "R",
   "language": "R",
   "name": "ir"
  },
  "language_info": {
   "codemirror_mode": "r",
   "file_extension": ".r",
   "mimetype": "text/x-r-source",
   "name": "R",
   "pygments_lexer": "r",
   "version": "4.2.2"
  }
 },
 "nbformat": 4,
 "nbformat_minor": 5
}
