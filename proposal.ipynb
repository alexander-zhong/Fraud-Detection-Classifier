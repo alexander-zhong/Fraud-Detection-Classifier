{
 "cells": [
  {
   "cell_type": "markdown",
   "id": "b8557667-168d-4acb-92a4-c1bb47d9dd5d",
   "metadata": {},
   "source": [
    "# Title\n"
   ]
  },
  {
   "cell_type": "markdown",
   "id": "0c4e3a5b-38e3-4417-b838-afbd507b1743",
   "metadata": {},
   "source": [
    "## Introduction\n",
    "\n",
    "\n",
    "..."
   ]
  },
  {
   "cell_type": "markdown",
   "id": "ba4ea4fd-b391-440f-82da-e328a13f4b38",
   "metadata": {
    "tags": []
   },
   "source": [
    "## Preliminary exploratory data analysis\n",
    "..."
   ]
  },
  {
   "cell_type": "markdown",
   "id": "2db29431-59de-4028-a091-9ca3d9d6a764",
   "metadata": {},
   "source": [
    "\n",
    "\n",
    "\n",
    "\n",
    "\n",
    "\n",
    "\n",
    "\n",
    "\n"
   ]
  },
  {
   "cell_type": "markdown",
   "id": "c80808cd-cd73-40a7-af9a-ca50043e884f",
   "metadata": {},
   "source": [
    "## Methods\n",
    "..."
   ]
  },
  {
   "cell_type": "markdown",
   "id": "a7c3d8c1-ae1f-4bc9-b1f9-73e5e17b654a",
   "metadata": {},
   "source": [
    "\n",
    "\n",
    "\n",
    "\n",
    "\n",
    "\n",
    "\n",
    "\n",
    "\n"
   ]
  },
  {
   "cell_type": "markdown",
   "id": "3d132734-b2f7-41cc-b419-6f85f5c7151a",
   "metadata": {},
   "source": [
    "## Expected outcomes and significance\n",
    "..."
   ]
  },
  {
   "cell_type": "markdown",
   "id": "31ff1b8e-4032-4958-93b0-d59776af0011",
   "metadata": {},
   "source": [
    "\n",
    "\n",
    "\n",
    "\n",
    "\n",
    "\n",
    "\n"
   ]
  }
 ],
 "metadata": {
  "kernelspec": {
   "display_name": "R",
   "language": "R",
   "name": "ir"
  },
  "language_info": {
   "codemirror_mode": "r",
   "file_extension": ".r",
   "mimetype": "text/x-r-source",
   "name": "R",
   "pygments_lexer": "r",
   "version": "4.2.2"
  }
 },
 "nbformat": 4,
 "nbformat_minor": 5
}
